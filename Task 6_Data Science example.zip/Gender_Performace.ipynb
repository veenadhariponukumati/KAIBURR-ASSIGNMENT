{
  "nbformat": 4,
  "nbformat_minor": 0,
  "metadata": {
    "colab": {
      "provenance": [],
      "authorship_tag": "ABX9TyNbCTDYMDTmib1UpYPCW7oi",
      "include_colab_link": true
    },
    "kernelspec": {
      "name": "python3",
      "display_name": "Python 3"
    },
    "language_info": {
      "name": "python"
    }
  },
  "cells": [
    {
      "cell_type": "markdown",
      "metadata": {
        "id": "view-in-github",
        "colab_type": "text"
      },
      "source": [
        "<a href=\"https://colab.research.google.com/github/veenadhariponukumati/KAIBURR-ASSIGNMENT/blob/main/Task%206_Data%20Science%20example.zip/Gender_Performace.ipynb\" target=\"_parent\"><img src=\"https://colab.research.google.com/assets/colab-badge.svg\" alt=\"Open In Colab\"/></a>"
      ]
    },
    {
      "cell_type": "code",
      "source": [
        "import pandas as pd\n",
        "from sklearn.model_selection import train_test_split\n",
        "from sklearn.tree import DecisionTreeClassifier\n",
        "from sklearn.metrics import classification_report\n",
        "\n",
        "# load the dataset\n",
        "df = pd.read_excel('https://github.com/veenadhariponukumati/KAIBURR-ASSIGNMENT/blob/main/Task%206_Data%20Science%20example.zip/Student-Dataset/Student-Dataset.xlsx?raw=true')\n",
        "\n",
        "# convert gender to numerical values\n",
        "df['Gender'] = df['Gender'].apply(lambda x: 1 if x == 'female' else 0)\n",
        "\n",
        "# split the dataset into training and testing sets\n",
        "X = df[['math score', 'reading score', 'writing score']]\n",
        "y = df['Gender']\n",
        "X_train, X_test, y_train, y_test = train_test_split(X, y, test_size=0.5, random_state=42)\n",
        "\n",
        "# create a decision tree classifier\n",
        "clf = DecisionTreeClassifier()\n",
        "\n",
        "# train the model on the training data\n",
        "clf.fit(X_train, y_train)\n",
        "\n",
        "print(f\"Training accuracy: {train_accuracy:.2f}\")\n",
        "print(f\"Testing accuracy: {test_accuracy:.2f}\")\n",
        "\n",
        "# evaluate the model on the training data\n",
        "train_pred = clf.predict(X_train)\n",
        "train_report = classification_report(y_train, train_pred)\n",
        "print(\"Training Performance Report:\")\n",
        "print(train_report)\n",
        "\n",
        "# evaluate the model on the testing data\n",
        "test_pred = clf.predict(X_test)\n",
        "test_report = classification_report(y_test, test_pred)\n",
        "print(\"Testing Performance Report:\")\n",
        "print(test_report)\n",
        "\n",
        "# determine which gender has highest performance\n",
        "predictions = clf.predict(X_test)\n",
        "df_results = pd.DataFrame({'actual': y_test, 'predicted': predictions})\n",
        "grouped_results = df_results.groupby('actual')['predicted'].value_counts(normalize=True)\n",
        "print(\"Gender performance:\")\n",
        "print(grouped_results)"
      ],
      "metadata": {
        "colab": {
          "base_uri": "https://localhost:8080/"
        },
        "id": "4MBEwWEjLBSj",
        "outputId": "1932b2e7-5073-4e37-a095-823ee45b4fec"
      },
      "execution_count": 16,
      "outputs": [
        {
          "output_type": "stream",
          "name": "stdout",
          "text": [
            "Training accuracy: 0.99\n",
            "Testing accuracy: 0.80\n",
            "Training Performance Report:\n",
            "              precision    recall  f1-score   support\n",
            "\n",
            "           0       0.99      1.00      1.00       231\n",
            "           1       1.00      0.99      1.00       269\n",
            "\n",
            "    accuracy                           1.00       500\n",
            "   macro avg       1.00      1.00      1.00       500\n",
            "weighted avg       1.00      1.00      1.00       500\n",
            "\n",
            "Testing Performance Report:\n",
            "              precision    recall  f1-score   support\n",
            "\n",
            "           0       0.79      0.81      0.80       251\n",
            "           1       0.80      0.79      0.80       249\n",
            "\n",
            "    accuracy                           0.80       500\n",
            "   macro avg       0.80      0.80      0.80       500\n",
            "weighted avg       0.80      0.80      0.80       500\n",
            "\n",
            "Gender performance:\n",
            "actual  predicted\n",
            "0       0            0.808765\n",
            "        1            0.191235\n",
            "1       1            0.787149\n",
            "        0            0.212851\n",
            "Name: predicted, dtype: float64\n"
          ]
        }
      ]
    }
  ]
}